{
  "cells": [
    {
      "cell_type": "markdown",
      "id": "8631a289",
      "metadata": {
        "id": "8631a289"
      },
      "source": [
        "## Booleans (True & False)\n",
        "\n",
        "Los **Boolans** representan uno de estos dos valores: **True** o **False**.\n",
        "\n",
        "En programación aveces es necesario saber si una expresión es verdadera (True) o falsa (False)\n",
        "\n",
        "En python se pueden evaluar o comparar expresiones y obtener uno de los dos resultados, verdadero o falso.\n",
        "\n",
        "En python, **True** es considerado 1 y **False** es considerado 0.\n",
        "\n",
        "Este tipo de dato se representa con la palabra reservada **`bool`**."
      ]
    },
    {
      "cell_type": "code",
      "execution_count": null,
      "id": "a7d35315-9aed-475f-87f8-738b417ba1f5",
      "metadata": {
        "id": "a7d35315-9aed-475f-87f8-738b417ba1f5"
      },
      "outputs": [],
      "source": [
        "# administrador 1     administrador 2"
      ]
    },
    {
      "cell_type": "markdown",
      "id": "96bf4f4c-ff11-44bb-a049-66b3e0af51a7",
      "metadata": {
        "id": "96bf4f4c-ff11-44bb-a049-66b3e0af51a7"
      },
      "source": [
        "- Verdadero (True) = 1  y Falso (False) = 0"
      ]
    },
    {
      "cell_type": "markdown",
      "id": "fe1716a8",
      "metadata": {
        "id": "fe1716a8"
      },
      "source": [
        "## Operadores de Comparación\n",
        "\n",
        "Como dice su nombre, se utiliza para comparar elementos, su resultado siempre es **True** o **False**.\n",
        "\n",
        "| Operador | Operación     | Ejemplo |\n",
        "|----------|---------------|---------|\n",
        "| ==       | Igual         | x == y  |\n",
        "| !=       | Diferente     | x != y  |\n",
        "| >        | Mayor que     | x > y   |\n",
        "| <        | Menor que     | x < y   |\n",
        "| >=       | Mayor o igual | x >= y  |\n",
        "| <=       | Menor o igual | x <= y  |"
      ]
    },
    {
      "cell_type": "code",
      "execution_count": null,
      "id": "b7ce598f-fbbb-4ab6-9bc8-4c4dd310da2e",
      "metadata": {
        "id": "b7ce598f-fbbb-4ab6-9bc8-4c4dd310da2e"
      },
      "outputs": [],
      "source": [
        "# Hacer una lista con el número de descuadres"
      ]
    },
    {
      "cell_type": "markdown",
      "id": "9dc8b7f3",
      "metadata": {
        "id": "9dc8b7f3"
      },
      "source": [
        "## Operadores Lógicos\n",
        "\n",
        "Se utilizan en conjunto con los operadores de comparación, su función es unir diferentes declaraciones:\n",
        "\n",
        "| Operador | Descripción                                                                                  | Ejemplo           |\n",
        "|----------|----------------------------------------------------------------------------------------------|-------------------|\n",
        "| and o `&`| Retorna True si todas las declaraciones son True, sino, retorna False                        | x > 5 and x < 10  |\n",
        "| or o `\\|`| Retorna True si al menos una de las declaraciones son True, retorna False si todas son False | x > 5 or x < 10   |\n",
        "| not o `~`| Invierte el resultado de la operación                                                        | not(x > 5 or x < 10)|"
      ]
    },
    {
      "cell_type": "raw",
      "id": "dee4e65d-f885-4443-b831-1c470a1dc466",
      "metadata": {
        "id": "dee4e65d-f885-4443-b831-1c470a1dc466"
      },
      "source": [
        "b > a,  b > a and b < c,  b > a & b < c,  c > a or c > d,  (c > a) | (c > d),  not(b > a)"
      ]
    },
    {
      "cell_type": "code",
      "execution_count": null,
      "id": "d09a5988-9426-4f64-aa76-41780aa95f50",
      "metadata": {
        "id": "d09a5988-9426-4f64-aa76-41780aa95f50"
      },
      "outputs": [],
      "source": [
        "# malas  ventas si  ventas < umbralminimo, estables si umbralminino< ventas< umbralmaximo; buenas ventas> umbralmaximo\n",
        "#print(\"se reportan buenas ventas\", reporte)"
      ]
    },
    {
      "cell_type": "code",
      "execution_count": null,
      "id": "443e7993",
      "metadata": {
        "id": "443e7993"
      },
      "outputs": [],
      "source": [
        "################################################################################################################################"
      ]
    },
    {
      "cell_type": "code",
      "execution_count": null,
      "id": "2d74f1d7-6f7c-4747-9c23-346be05a3b1a",
      "metadata": {
        "id": "2d74f1d7-6f7c-4747-9c23-346be05a3b1a"
      },
      "outputs": [],
      "source": []
    }
  ],
  "metadata": {
    "kernelspec": {
      "display_name": "Python 3 (ipykernel)",
      "language": "python",
      "name": "python3"
    },
    "language_info": {
      "codemirror_mode": {
        "name": "ipython",
        "version": 3
      },
      "file_extension": ".py",
      "mimetype": "text/x-python",
      "name": "python",
      "nbconvert_exporter": "python",
      "pygments_lexer": "ipython3",
      "version": "3.13.2"
    },
    "colab": {
      "provenance": []
    }
  },
  "nbformat": 4,
  "nbformat_minor": 5
}