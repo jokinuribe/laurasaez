{
  "cells": [
    {
      "cell_type": "markdown",
      "id": "c54fd5aa",
      "metadata": {
        "id": "c54fd5aa"
      },
      "source": [
        "### Ejercicios clase de Strings"
      ]
    },
    {
      "cell_type": "code",
      "execution_count": null,
      "id": "bae6c2a9",
      "metadata": {
        "id": "bae6c2a9"
      },
      "outputs": [],
      "source": [
        "frase = \"Nunca confies en un ordenador que no puedas lanzar por una ventana -- Steve Wozniak\""
      ]
    },
    {
      "cell_type": "markdown",
      "id": "605874f4",
      "metadata": {
        "id": "605874f4"
      },
      "source": [
        "- Obtener el largo de la frase"
      ]
    },
    {
      "cell_type": "code",
      "execution_count": null,
      "id": "9ce4991c",
      "metadata": {
        "id": "9ce4991c"
      },
      "outputs": [],
      "source": []
    },
    {
      "cell_type": "markdown",
      "id": "8fe445bf",
      "metadata": {
        "id": "8fe445bf"
      },
      "source": [
        "- Obtener la frase **\"lanzar por una ventana\"** usando slicing"
      ]
    },
    {
      "cell_type": "code",
      "execution_count": null,
      "id": "57beb8e9",
      "metadata": {
        "id": "57beb8e9"
      },
      "outputs": [],
      "source": []
    },
    {
      "cell_type": "markdown",
      "id": "e50eb318",
      "metadata": {
        "id": "e50eb318"
      },
      "source": [
        "- Obtener la sección **\"confies en un ordenador\"** haciando slicing de derecha a izquierda, utilizando indexing negativo"
      ]
    },
    {
      "cell_type": "code",
      "execution_count": null,
      "id": "9299725f",
      "metadata": {
        "id": "9299725f"
      },
      "outputs": [],
      "source": []
    },
    {
      "cell_type": "markdown",
      "id": "f64534b8",
      "metadata": {
        "id": "f64534b8"
      },
      "source": [
        "1. Guardar en la variable: **`subfrase1`**, la siguiente sección de la variable frase: **\"un ordenador\"**\n",
        "2. Guardar en la variable: **`subfrase2`**, la siguiente sección de la variable frase: **\"por una ventanza\"**\n",
        "3. Guardar en la variable: **`subfrase3`**, la siguiente sección de la variable frase: **\"Steve Wozniak\"**\n",
        "3. Crear la siguiente frase utilizando las variables: **`subfrase1`**, **`subfrase2`**, **`subfrase3`**: **\"un ordenador, por una ventana -- Steve Wozniak\"** y guardarla en una variable."
      ]
    },
    {
      "cell_type": "code",
      "execution_count": null,
      "id": "eae3f714",
      "metadata": {
        "id": "eae3f714"
      },
      "outputs": [],
      "source": []
    },
    {
      "cell_type": "code",
      "execution_count": null,
      "id": "3e5b49b9",
      "metadata": {
        "id": "3e5b49b9"
      },
      "outputs": [],
      "source": []
    },
    {
      "cell_type": "code",
      "execution_count": null,
      "id": "32dec2c4",
      "metadata": {
        "id": "32dec2c4"
      },
      "outputs": [],
      "source": []
    },
    {
      "cell_type": "markdown",
      "id": "4ed01d93",
      "metadata": {
        "id": "4ed01d93"
      },
      "source": [
        "- Hacer stride de paso 2 con la nueva frase"
      ]
    },
    {
      "cell_type": "code",
      "execution_count": null,
      "id": "ad0072cd",
      "metadata": {
        "id": "ad0072cd"
      },
      "outputs": [],
      "source": []
    },
    {
      "cell_type": "markdown",
      "id": "49f704a6",
      "metadata": {
        "id": "49f704a6"
      },
      "source": [
        "- Obten las vocales de la palabra **\"Nunca\"** y **\"una\"**, haciendo slicing a la frase y luego stride"
      ]
    },
    {
      "cell_type": "code",
      "execution_count": null,
      "id": "e7919c6a",
      "metadata": {
        "id": "e7919c6a"
      },
      "outputs": [],
      "source": []
    },
    {
      "cell_type": "code",
      "execution_count": null,
      "id": "1350b40f",
      "metadata": {
        "id": "1350b40f"
      },
      "outputs": [],
      "source": []
    },
    {
      "cell_type": "markdown",
      "id": "0a42a1a3",
      "metadata": {
        "id": "0a42a1a3"
      },
      "source": [
        "- Encuentra el indice del texto **\"--\"** y guardarlo en la variable **`indice_1`**"
      ]
    },
    {
      "cell_type": "code",
      "execution_count": null,
      "id": "b91458ad",
      "metadata": {
        "id": "b91458ad"
      },
      "outputs": [],
      "source": []
    },
    {
      "cell_type": "markdown",
      "id": "04dc8653",
      "metadata": {
        "id": "04dc8653"
      },
      "source": [
        "- Encuentra el indice de la palabra **\"ventana\"** y guardalo en la variable **`indice_2`**"
      ]
    },
    {
      "cell_type": "code",
      "execution_count": null,
      "id": "b01ec2bd",
      "metadata": {
        "id": "b01ec2bd"
      },
      "outputs": [],
      "source": []
    },
    {
      "cell_type": "markdown",
      "id": "1ba23cc3",
      "metadata": {
        "id": "1ba23cc3"
      },
      "source": [
        "- Obtener la frase: **\"ordenador que no puedas lanzar por una ventana\"** haciendo slicing y utilizando las variables: **`indice_1`** y **`indice_2`**"
      ]
    },
    {
      "cell_type": "code",
      "execution_count": null,
      "id": "3d07c17e",
      "metadata": {
        "id": "3d07c17e"
      },
      "outputs": [],
      "source": []
    },
    {
      "cell_type": "markdown",
      "id": "4ce3d23c",
      "metadata": {
        "id": "4ce3d23c"
      },
      "source": [
        "- Verificar si la frase comienza con la cadena **\"nunca\"**"
      ]
    },
    {
      "cell_type": "code",
      "execution_count": null,
      "id": "23f39959",
      "metadata": {
        "id": "23f39959"
      },
      "outputs": [],
      "source": []
    },
    {
      "cell_type": "code",
      "execution_count": null,
      "id": "5858f1d1",
      "metadata": {
        "id": "5858f1d1"
      },
      "outputs": [],
      "source": []
    },
    {
      "cell_type": "code",
      "execution_count": null,
      "id": "20c162de",
      "metadata": {
        "id": "20c162de"
      },
      "outputs": [],
      "source": []
    },
    {
      "cell_type": "markdown",
      "id": "67350650",
      "metadata": {
        "id": "67350650"
      },
      "source": [
        "- Verificar si la frase termina con **\".\"**"
      ]
    },
    {
      "cell_type": "code",
      "execution_count": null,
      "id": "fd459e90",
      "metadata": {
        "id": "fd459e90"
      },
      "outputs": [],
      "source": []
    },
    {
      "cell_type": "code",
      "execution_count": null,
      "id": "3491094f",
      "metadata": {
        "id": "3491094f"
      },
      "outputs": [],
      "source": []
    },
    {
      "cell_type": "markdown",
      "id": "92e148d9",
      "metadata": {
        "id": "92e148d9"
      },
      "source": [
        "- Separar la frase por la cadena **\"que\"** utilizando **`.split()`**"
      ]
    },
    {
      "cell_type": "code",
      "execution_count": null,
      "id": "d24490e1",
      "metadata": {
        "id": "d24490e1"
      },
      "outputs": [],
      "source": []
    },
    {
      "cell_type": "markdown",
      "id": "4bd93d27",
      "metadata": {
        "id": "4bd93d27"
      },
      "source": [
        "- Separar la frase por la letra **\"o\"** utilizando **`.split()`**"
      ]
    },
    {
      "cell_type": "code",
      "execution_count": null,
      "id": "922a9f36",
      "metadata": {
        "id": "922a9f36"
      },
      "outputs": [],
      "source": [
        "frase.split()"
      ]
    },
    {
      "cell_type": "markdown",
      "id": "fb6a50cc",
      "metadata": {
        "id": "fb6a50cc"
      },
      "source": [
        "- Cuenta cuantas veces aparecen las vocales en la frase."
      ]
    },
    {
      "cell_type": "code",
      "execution_count": null,
      "id": "e3bdc740",
      "metadata": {
        "id": "e3bdc740"
      },
      "outputs": [],
      "source": []
    },
    {
      "cell_type": "code",
      "execution_count": null,
      "id": "a2572459",
      "metadata": {
        "id": "a2572459"
      },
      "outputs": [],
      "source": []
    },
    {
      "cell_type": "code",
      "execution_count": null,
      "id": "1d5ca005",
      "metadata": {
        "id": "1d5ca005"
      },
      "outputs": [],
      "source": []
    },
    {
      "cell_type": "code",
      "execution_count": null,
      "id": "5b984040",
      "metadata": {
        "id": "5b984040"
      },
      "outputs": [],
      "source": []
    },
    {
      "cell_type": "code",
      "execution_count": null,
      "id": "78453b21",
      "metadata": {
        "id": "78453b21"
      },
      "outputs": [],
      "source": []
    },
    {
      "cell_type": "code",
      "execution_count": null,
      "id": "58391305",
      "metadata": {
        "id": "58391305"
      },
      "outputs": [],
      "source": []
    },
    {
      "cell_type": "code",
      "execution_count": null,
      "id": "6e1b8db5",
      "metadata": {
        "id": "6e1b8db5"
      },
      "outputs": [],
      "source": []
    },
    {
      "cell_type": "code",
      "execution_count": null,
      "id": "04bac0f8",
      "metadata": {
        "id": "04bac0f8"
      },
      "outputs": [],
      "source": [
        "################################################################################################################################"
      ]
    }
  ],
  "metadata": {
    "kernelspec": {
      "display_name": "Python 3 (ipykernel)",
      "language": "python",
      "name": "python3"
    },
    "language_info": {
      "codemirror_mode": {
        "name": "ipython",
        "version": 3
      },
      "file_extension": ".py",
      "mimetype": "text/x-python",
      "name": "python",
      "nbconvert_exporter": "python",
      "pygments_lexer": "ipython3",
      "version": "3.13.2"
    },
    "colab": {
      "provenance": []
    }
  },
  "nbformat": 4,
  "nbformat_minor": 5
}